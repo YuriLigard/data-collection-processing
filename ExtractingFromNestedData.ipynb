{
 "cells": [
  {
   "cell_type": "markdown",
   "metadata": {},
   "source": [
    "> Trabalhando com 'JSON'"
   ]
  },
  {
   "cell_type": "code",
   "execution_count": 81,
   "metadata": {},
   "outputs": [
    {
     "name": "stdout",
     "output_type": "stream",
     "text": [
      "Andrew Brooks 31brooks_\n"
     ]
    }
   ],
   "source": [
    "import json\n",
    "\n",
    "\n",
    "with open(r'./data/tw.json', mode='r', encoding='UTF-8') as twjson:\n",
    "    res = json.load(twjson)\n",
    "\n",
    "\n",
    "\n",
    "#print(res.keys())\n",
    "\n",
    "#print(res['statuses'][0].keys())\n",
    "\n",
    "print(res['statuses'][0]['user']['name'], res['statuses'][0]['user']['screen_name'])"
   ]
  },
  {
   "cell_type": "markdown",
   "metadata": {},
   "source": [
    " > - 1 - Below, we have provided a nested list called **big_list**. Use nested iteration to create a dictionary, **word_counts**, that contains all the words in big_list as keys, and the number of times they occur as values.\n",
    "\n"
   ]
  },
  {
   "cell_type": "code",
   "execution_count": null,
   "metadata": {},
   "outputs": [],
   "source": [
    "big_list = [[['one', 'two'], ['seven', 'eight']], [['nine', 'four'], ['three', 'one']], [['nine', 'four'], ['three', 'one']]]\n",
    "\n",
    "\n",
    "\n"
   ]
  }
 ],
 "metadata": {
  "kernelspec": {
   "display_name": "data-collection-processing-py",
   "language": "python",
   "name": "python3"
  },
  "language_info": {
   "codemirror_mode": {
    "name": "ipython",
    "version": 3
   },
   "file_extension": ".py",
   "mimetype": "text/x-python",
   "name": "python",
   "nbconvert_exporter": "python",
   "pygments_lexer": "ipython3",
   "version": "3.11.5"
  },
  "orig_nbformat": 4
 },
 "nbformat": 4,
 "nbformat_minor": 2
}
