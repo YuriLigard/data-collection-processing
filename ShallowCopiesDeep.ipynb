{
 "cells": [
  {
   "cell_type": "markdown",
   "metadata": {},
   "source": [
    "## Estruturas Aninhadas VS Alias (list)\n",
    "> Possíveis problemas com Alias em estruturas aninhadas "
   ]
  },
  {
   "cell_type": "code",
   "execution_count": 17,
   "metadata": {},
   "outputs": [
    {
     "name": "stdout",
     "output_type": "stream",
     "text": [
      "139639130507904 139639130508096\n",
      "[['dogs', 'puppies'], ['cats', 'kittens'], '[test]']\n",
      "---------------\n",
      "[['dogs', 'puppies'], ['cats', 'kittens']]\n"
     ]
    }
   ],
   "source": [
    "original = [['dogs', 'puppies'], ['cats', 'kittens']]\n",
    "copied_version = original[:]\n",
    "\n",
    "print(id(original), id(copied_version)) # Endereços de memória individuais \n",
    "\n",
    "original.append('[test]') \n",
    "\n",
    "print(original)\n",
    "\n",
    "print(\"---------------\")\n",
    "\n",
    "print(copied_version)\n",
    "\n"
   ]
  },
  {
   "cell_type": "markdown",
   "metadata": {},
   "source": [
    "> Aparentemente conseguimos fazer uma cópia profunda \n",
    "### Mas... \n",
    "\n",
    "> Vamos add um elemento a sub lista 0 da lista **original**"
   ]
  },
  {
   "cell_type": "code",
   "execution_count": 18,
   "metadata": {},
   "outputs": [
    {
     "name": "stdout",
     "output_type": "stream",
     "text": [
      "[['dogs', 'puppies', 'horse'], ['cats', 'kittens'], '[test]']\n",
      "-----------------\n",
      "[['dogs', 'puppies', 'horse'], ['cats', 'kittens']]\n"
     ]
    }
   ],
   "source": [
    "original[0].append(\"horse\")\n",
    "\n",
    "print(original)\n",
    "\n",
    "print(\"-----------------\")\n",
    "\n",
    "print(copied_version)"
   ]
  },
  {
   "cell_type": "markdown",
   "metadata": {},
   "source": [
    "> Isso pq a sub lista continua apontando para o mesmo endereço de memória"
   ]
  },
  {
   "cell_type": "code",
   "execution_count": 19,
   "metadata": {},
   "outputs": [
    {
     "name": "stdout",
     "output_type": "stream",
     "text": [
      "139639130420288\n",
      "139639130420288\n"
     ]
    }
   ],
   "source": [
    "print(id(original[0]))\n",
    "\n",
    "print(id(copied_version[0]))"
   ]
  },
  {
   "cell_type": "markdown",
   "metadata": {},
   "source": [
    "### Cópia profunda \n",
    "> Percorrer toda estrutura aninhada e add item por item a segunda versão da lista ou usar a lib copy, caso a estrutura aninhada não for bem definida em seus sub níveis."
   ]
  },
  {
   "cell_type": "code",
   "execution_count": 20,
   "metadata": {},
   "outputs": [
    {
     "name": "stdout",
     "output_type": "stream",
     "text": [
      "[['dogs', 'puppies', 'horse', 'test'], ['cats', 'kittens'], '[test]']\n",
      "-------\n",
      "[['dogs', 'puppies', 'horse'], ['cats', 'kittens'], '[test]']\n"
     ]
    }
   ],
   "source": [
    "import copy\n",
    "\n",
    "copied_version2 = copy.deepcopy(original)\n",
    "\n",
    "original[0].append(\"test\")\n",
    "\n",
    "print(original)\n",
    "\n",
    "print(\"-------\")\n",
    "\n",
    "print(copied_version2)"
   ]
  }
 ],
 "metadata": {
  "kernelspec": {
   "display_name": "data-collection-processing-py",
   "language": "python",
   "name": "python3"
  },
  "language_info": {
   "codemirror_mode": {
    "name": "ipython",
    "version": 3
   },
   "file_extension": ".py",
   "mimetype": "text/x-python",
   "name": "python",
   "nbconvert_exporter": "python",
   "pygments_lexer": "ipython3",
   "version": "3.11.5"
  },
  "orig_nbformat": 4
 },
 "nbformat": 4,
 "nbformat_minor": 2
}
