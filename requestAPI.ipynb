{
 "cells": [
  {
   "cell_type": "markdown",
   "metadata": {},
   "source": [
    "# Consumindo API (GET)"
   ]
  },
  {
   "cell_type": "code",
   "execution_count": null,
   "metadata": {},
   "outputs": [],
   "source": [
    "\n",
    "# some invocations that we use in the automated tests; uncomment these if you are getting errors and want better error messages\n",
    "import requests_with_caching\n",
    "import json\n",
    "# some invocations that we use in the automated tests; uncomment these if you are getting errors and want better error messages\n",
    "# get_movies_from_tastedive(\"Bridesmaids\")\n",
    "def get_movies_from_tastedive(name, tp=\"movies\", limit=5):\n",
    "    urlbase = \"https://tastedive.com/api/similar\"\n",
    "    params = dict()\n",
    "    params[\"q\"] = name \n",
    "    params[\"type\"] = tp\n",
    "    params[\"limit\"] = 5\n",
    "    resp = requests_with_caching.get(urlbase, params=params)\n",
    "    date = json.loads(resp.text)\n",
    "    return date\n",
    "\n",
    "def extract_movie_titles(date):\n",
    "    return [name[\"Name\"] for name in date[\"Similar\"][\"Results\"]]\n",
    "\n",
    "def get_related_titles(args):\n",
    "    if len(args) > 0:\n",
    "        dates = list((map(extract_movie_titles, (map(get_movies_from_tastedive, args)))))\n",
    "        return list(set(dates[0]+dates[1]))\n",
    "    else: \n",
    "        return []\n",
    "\n",
    "def get_movie_data(name, tp=\"json\"):\n",
    "    urlbase = \"http://www.omdbapi.com/\"\n",
    "    params = dict()\n",
    "    params[\"t\"] = name \n",
    "    params[\"r\"] = tp\n",
    "    resp = requests_with_caching.get(urlbase, params=params)\n",
    "    date = json.loads(resp.text)\n",
    "    return date\n",
    "\n",
    "def get_movie_rating(movieInfo):\n",
    "    if len(movieInfo['Ratings']) > 1:\n",
    "        num = movieInfo['Ratings'][1][\"Value\"]\n",
    "        return int(num.replace(\"%\", \"\"))\n",
    "    else:\n",
    "        return 0\n",
    "    \n",
    "\n",
    "def get_sorted_recommendations(args):\n",
    "    movies = get_related_titles(args)\n",
    "    classifDic = {}\n",
    "    print(movies)\n",
    "    for movie in movies:\n",
    "        print(movie)\n",
    "        classifDic[movie] = get_movie_rating(get_movie_data(movie))\n",
    "    \n",
    "    return [i[0] for i in sorted(classifDic.items(), key=lambda item: (item[1], item[0]), reverse=True)]\n",
    "    \n",
    "    #return [classifDic[i] for i in index]\n",
    "    \n",
    "get_sorted_recommendations([\"Bridesmaids\", \"Sherlock Holmes\"])\n",
    "\n"
   ]
  },
  {
   "cell_type": "code",
   "execution_count": 1,
   "metadata": {},
   "outputs": [
    {
     "name": "stdout",
     "output_type": "stream",
     "text": [
      "\n",
      "\n",
      "\n",
      "{\n",
      " \"resultCount\":3,\n",
      " \"results\": [\n",
      "{\"wrapperType\":\"audiobook\", \"artistId\":1150439209, \"collectionId\":1437942418, \"artistName\":\"Douglas Gonçalves\", \"collectionName\":\"JesusCopy: A revolução das cópias de Jesus [The Revolution of the Copies of Jesus] (Unabridged)\", \"collectionCensoredName\":\"JesusCopy: A revolução das cópias de Jesus [The Revolution of the Copies of Jesus] (Unabridged)\", \"artistViewUrl\":\"https://books.apple.com/us/author/douglas-gon%C3%A7alves/id1150439209?uo=4\", \"collectionViewUrl\":\"https://books.apple.com/us/audiobook/jesuscopy-a-revolu%C3%A7%C3%A3o-das-c%C3%B3pias-de-jesus/id1437942418?uo=4\", \"artworkUrl60\":\"https://is1-ssl.mzstatic.com/image/thumb/Music128/v4/81/74/65/817465be-7efc-a847-3ed8-d1dbba32b180/rm_image.jpg/60x60bb.jpg\", \"artworkUrl100\":\"https://is1-ssl.mzstatic.com/image/thumb/Music128/v4/81/74/65/817465be-7efc-a847-3ed8-d1dbba32b180/rm_image.jpg/100x100bb.jpg\", \"collectionPrice\":3.99, \"collectionExplicitness\":\"notExplicit\", \"trackCount\":1, \"copyright\":\"© 2023 Mundo Cristão\", \"country\":\"USA\", \"currency\":\"USD\", \"releaseDate\":\"2023-10-02T07:00:00Z\", \"primaryGenreName\":\"Religion & Spirituality\", \n",
      "\"previewUrl\":\"https://audio-ssl.itunes.apple.com/itunes-assets/AudioPreview116/v4/ce/88/5c/ce885cd1-f0be-eb73-3a63-ab8a0b136a87/mzaf_6894231972285041270.std.aac.p.m4a\", \n",
      "\"description\":\"JesusCopy tem como objetivo chamar todo aquele que se diz cristão ao compromisso real e revolucionário de ser como Cristo em tudo o que pensa, diz, faz e deixa de fazer. Porque, afinal, o que faz de alguém um cristão é o fato de ele ser uma cópia de Jesus.&#xa0;&#xa0;&#xa0;&#xa0;&#xa0;&#xa0;&#xa0;<br /><br />\\\"\\\"Este livro é para os inconformados. Caso você esteja totalmente feliz com a situação da igreja e com sua vida espiritual, é possível que aquilo que lerá nas páginas a seguir não lhe cause nenhum impacto. Entretanto, se você está, como eu, desgostoso com a situação espiritual dos evangélicos, se o seu coração arde pela necessidade de um avivamento, de um movimento de santidade que transforme a Igreja e afete a sociedade como um todo... este livro é para você.\\\"\\\" (Douglas Gonçalves)\"}, \n",
      "{\"wrapperType\":\"track\", \"kind\":\"podcast\", \"collectionId\":1458027179, \"trackId\":1458027179, \"artistName\":\"Jesuscopy\", \"collectionName\":\"JesusCopy Podcast\", \"trackName\":\"JesusCopy Podcast\", \"collectionCensoredName\":\"JesusCopy Podcast\", \"trackCensoredName\":\"JesusCopy Podcast\", \"collectionViewUrl\":\"https://podcasts.apple.com/us/podcast/jesuscopy-podcast/id1458027179?uo=4\", \"feedUrl\":\"https://feeds.transistor.fm/podcast-jesuscopy\", \"trackViewUrl\":\"https://podcasts.apple.com/us/podcast/jesuscopy-podcast/id1458027179?uo=4\", \"artworkUrl30\":\"https://is1-ssl.mzstatic.com/image/thumb/Podcasts116/v4/3d/87/c8/3d87c8fe-f71b-e005-a023-fcac27a5eb95/mza_12584138806329522325.jpg/30x30bb.jpg\", \"artworkUrl60\":\"https://is1-ssl.mzstatic.com/image/thumb/Podcasts116/v4/3d/87/c8/3d87c8fe-f71b-e005-a023-fcac27a5eb95/mza_12584138806329522325.jpg/60x60bb.jpg\", \"artworkUrl100\":\"https://is1-ssl.mzstatic.com/image/thumb/Podcasts116/v4/3d/87/c8/3d87c8fe-f71b-e005-a023-fcac27a5eb95/mza_12584138806329522325.jpg/100x100bb.jpg\", \"collectionPrice\":0.00, \"trackPrice\":0.00, \"collectionHdPrice\":0, \"releaseDate\":\"2023-12-11T15:28:00Z\", \"collectionExplicitness\":\"notExplicit\", \"trackExplicitness\":\"cleaned\", \"trackCount\":310, \"trackTimeMillis\":4105, \"country\":\"USA\", \"currency\":\"USD\", \"primaryGenreName\":\"Religion & Spirituality\", \"contentAdvisoryRating\":\"Clean\", \"artworkUrl600\":\"https://is1-ssl.mzstatic.com/image/thumb/Podcasts116/v4/3d/87/c8/3d87c8fe-f71b-e005-a023-fcac27a5eb95/mza_12584138806329522325.jpg/600x600bb.jpg\", \"genreIds\":[\"1314\", \"26\", \"1304\"], \"genres\":[\"Religion & Spirituality\", \"Podcasts\", \"Education\"]}, \n",
      "{\"wrapperType\":\"track\", \"kind\":\"podcast\", \"collectionId\":1330665488, \"trackId\":1330665488, \"artistName\":\"Família JesusCopy\", \"collectionName\":\"Família Jesuscopy\", \"trackName\":\"Família Jesuscopy\", \"collectionCensoredName\":\"Família Jesuscopy\", \"trackCensoredName\":\"Família Jesuscopy\", \"collectionViewUrl\":\"https://podcasts.apple.com/us/podcast/fam%C3%ADlia-jesuscopy/id1330665488?uo=4\", \"feedUrl\":\"https://feeds.soundcloud.com/users/soundcloud:users:114981661/sounds.rss\", \"trackViewUrl\":\"https://podcasts.apple.com/us/podcast/fam%C3%ADlia-jesuscopy/id1330665488?uo=4\", \"artworkUrl30\":\"https://is1-ssl.mzstatic.com/image/thumb/Podcasts128/v4/90/c0/91/90c09116-4a84-dad1-74de-626e812ae910/mza_614900771900574080.jpg/30x30bb.jpg\", \"artworkUrl60\":\"https://is1-ssl.mzstatic.com/image/thumb/Podcasts128/v4/90/c0/91/90c09116-4a84-dad1-74de-626e812ae910/mza_614900771900574080.jpg/60x60bb.jpg\", \"artworkUrl100\":\"https://is1-ssl.mzstatic.com/image/thumb/Podcasts128/v4/90/c0/91/90c09116-4a84-dad1-74de-626e812ae910/mza_614900771900574080.jpg/100x100bb.jpg\", \"collectionPrice\":0.00, \"trackPrice\":0.00, \"collectionHdPrice\":0, \"releaseDate\":\"2023-12-04T12:52:00Z\", \"collectionExplicitness\":\"notExplicit\", \"trackExplicitness\":\"cleaned\", \"trackCount\":272, \"trackTimeMillis\":2606, \"country\":\"USA\", \"currency\":\"USD\", \"primaryGenreName\":\"Religion & Spirituality\", \"contentAdvisoryRating\":\"Clean\", \"artworkUrl600\":\"https://is1-ssl.mzstatic.com/image/thumb/Podcasts128/v4/90/c0/91/90c09116-4a84-dad1-74de-626e812ae910/mza_614900771900574080.jpg/600x600bb.jpg\", \"genreIds\":[\"1314\", \"26\"], \"genres\":[\"Religion & Spirituality\", \"Podcasts\"]}]\n",
      "}\n",
      "\n",
      "\n",
      "\n"
     ]
    }
   ],
   "source": [
    "# APIrest Itunes \n",
    "import requests\n",
    "\n",
    "param = {\"term\":\"JesusCopy\"}\n",
    "\n",
    "resp = requests.get(\" https://itunes.apple.com/search\", params=param)\n",
    "\n",
    "print(resp.text)"
   ]
  },
  {
   "cell_type": "code",
   "execution_count": 2,
   "metadata": {},
   "outputs": [
    {
     "name": "stdout",
     "output_type": "stream",
     "text": [
      "flickr.com/photos/47294043@N02/53400699648\n",
      "flickr.com/photos/66855284@N03/53399569147\n"
     ]
    }
   ],
   "source": [
    "# APIrest flickr\n",
    "import json\n",
    "\n",
    "params = {\"method\":\"flickr.photos.search\", \n",
    "         \"api_key\":\"cf2b7ca39080f1a420965e63392c8ef4\", \n",
    "         \"format\":\"json\", \"nojsoncallback\":1, \n",
    "         \"tags\":[\"snow\"], \n",
    "         \"tag_mode\":\"any\", \n",
    "         \"privacy_filter\":1,\n",
    "         \"media\":\"photos\",\n",
    "         \"per_page\":2\n",
    "         }\n",
    "\n",
    "endpoint = \"https://api.flickr.com/services/rest/\"\n",
    "\n",
    "resp = requests.get(endpoint, params=params)\n",
    "\n",
    "capInfo = json.loads(resp.text)\n",
    "\n",
    "\n",
    "for p in capInfo[\"photos\"][\"photo\"]:\n",
    "    print(f\"flickr.com/photos/{p['owner']}/{p['id']}\")\n",
    "\n"
   ]
  },
  {
   "cell_type": "markdown",
   "metadata": {},
   "source": [
    "## Construíndo Cache com Redis "
   ]
  },
  {
   "cell_type": "code",
   "execution_count": 3,
   "metadata": {},
   "outputs": [],
   "source": [
    "### \n",
    "import redis\n",
    "\n",
    "try:\n",
    "    conn = redis.Redis(host='localhost', port=6379, decode_responses=True)\n",
    "    conn.ping()\n",
    "except redis.exceptions.ConnectionError as err:\n",
    "    print('\\n Conn Redis: {0} \\n'.format(err))\n",
    "\n"
   ]
  },
  {
   "cell_type": "code",
   "execution_count": 46,
   "metadata": {},
   "outputs": [],
   "source": [
    "def seach(keycahe):\n",
    "    return conn.get(keycahe)\n",
    "\n",
    "def add(keycache, value):\n",
    "    conn.set(name=keycache, value=value, ex=900) #15min"
   ]
  },
  {
   "cell_type": "code",
   "execution_count": 24,
   "metadata": {},
   "outputs": [],
   "source": [
    "def show(resp: json):\n",
    "    for p in resp[\"photos\"][\"photo\"]:\n",
    "        print(f\"flickr.com/photos/{p['owner']}/{p['id']}\")"
   ]
  },
  {
   "cell_type": "code",
   "execution_count": 66,
   "metadata": {},
   "outputs": [
    {
     "name": "stdout",
     "output_type": "stream",
     "text": [
      "cache....\n",
      "flickr.com/photos/60083277@N00/53275441083\n",
      "flickr.com/photos/60083277@N00/53274268012\n"
     ]
    }
   ],
   "source": [
    "params = {\"method\":\"flickr.photos.search\", \n",
    "         \"api_key\":\"cf2b7ca39080f1a420965e63392c8ef4\", \n",
    "         \"format\":\"json\", \"nojsoncallback\":1, \n",
    "         \"tags\":[\"girafa\"], \n",
    "         \"tag_mode\":\"any\", \n",
    "         \"privacy_filter\":1,\n",
    "         \"media\":\"photos\",\n",
    "         \"per_page\":2\n",
    "         }\n",
    "\n",
    "endpoint = \"https://api.flickr.com/services/rest/\"\n",
    "\n",
    "keycache = endpoint+\"_\".join([str(params[key]) for key in params if key != \"api_key\"])\n",
    "#print(keycache)\n",
    "\n",
    "linkCache = seach(keycache)\n",
    "#print(resCache)\n",
    "\n",
    "if linkCache == None:\n",
    "    try:\n",
    "        resp = requests.get(endpoint, params=params)\n",
    "        link = resp.text\n",
    "        add(keycache, link)\n",
    "    except requests.exceptions.ConnectionError as err:   # Montar conjunto de ex...\n",
    "         print('\\n requests: {0} \\n'.format(err))\n",
    "else:\n",
    "    print(\"cache....\")\n",
    "    link = linkCache\n",
    "\n",
    "show(json.loads(link))\n",
    "    \n",
    "\n"
   ]
  },
  {
   "cell_type": "code",
   "execution_count": 42,
   "metadata": {},
   "outputs": [
    {
     "data": {
      "text/plain": [
       "['flickr.photos.search', 'json', '1', \"['snow']\", 'any', '1', 'photos', '2']"
      ]
     },
     "execution_count": 42,
     "metadata": {},
     "output_type": "execute_result"
    }
   ],
   "source": [
    "a = [k for k in params if k != \"api_key\"]\n",
    "\n",
    "list(map((lambda x: str(params[x])), [k for k in params if k != \"api_key\"]))"
   ]
  },
  {
   "cell_type": "code",
   "execution_count": null,
   "metadata": {},
   "outputs": [],
   "source": []
  },
  {
   "cell_type": "code",
   "execution_count": null,
   "metadata": {},
   "outputs": [],
   "source": [
    "# some invocations that we use in the automated tests; uncomment these if you are getting errors and want better error messages\n",
    "import requests_with_caching\n",
    "import json\n",
    "# some invocations that we use in the automated tests; uncomment these if you are getting errors and want better error messages\n",
    "# get_movies_from_tastedive(\"Bridesmaids\")\n",
    "def get_movies_from_tastedive(name, tp=\"movies\", limit=5):\n",
    "    urlbase = \"https://tastedive.com/api/similar\"\n",
    "    params = dict()\n",
    "    params[\"q\"] = name \n",
    "    params[\"type\"] = tp\n",
    "    params[\"limit\"] = 5\n",
    "    resp = requests_with_caching.get(urlbase, params=params)\n",
    "    date = json.loads(resp.text)\n",
    "    return date\n",
    "\n",
    "def extract_movie_titles(date):\n",
    "    return [name[\"Name\"] for name in date[\"Similar\"][\"Results\"]]\n",
    "\n",
    "def get_related_titles(args):\n",
    "    if len(args) > 0:\n",
    "        dates = list((map(extract_movie_titles, (map(get_movies_from_tastedive, args)))))\n",
    "        return list(set(dates[0]+dates[1]))\n",
    "    else: \n",
    "        return []\n",
    "\n",
    "def get_movie_data(name, tp=\"json\"):\n",
    "    urlbase = \"http://www.omdbapi.com/\"\n",
    "    params = dict()\n",
    "    params[\"t\"] = name \n",
    "    params[\"r\"] = tp\n",
    "    resp = requests_with_caching.get(urlbase, params=params)\n",
    "    date = json.loads(resp.text)\n",
    "    return date\n",
    "\n",
    "def get_movie_rating(movieInfo):\n",
    "    if len(movieInfo['Ratings']) > 1:\n",
    "        num = movieInfo['Ratings'][1][\"Value\"]\n",
    "        return int(num.replace(\"%\", \"\"))\n",
    "    else:\n",
    "        return 0\n",
    "    \n",
    "\n",
    "def get_sorted_recommendations(args):\n",
    "    movies = get_related_titles(args)\n",
    "    classifDic = {}\n",
    "    print(movies)\n",
    "    for movie in movies:\n",
    "        print(movie)\n",
    "        classifDic[movie] = get_movie_rating(get_movie_data(movie))\n",
    "    \n",
    "    return [i[0] for i in sorted(classifDic.items(), key=lambda item: (item[1], item[0]), reverse=True)]\n",
    "    \n",
    "    #return [classifDic[i] for i in index]\n",
    "    \n",
    "get_sorted_recommendations([\"Bridesmaids\", \"Sherlock Holmes\"])\n",
    "\n"
   ]
  }
 ],
 "metadata": {
  "kernelspec": {
   "display_name": "PyhonFunFileDic",
   "language": "python",
   "name": "python3"
  },
  "language_info": {
   "codemirror_mode": {
    "name": "ipython",
    "version": 3
   },
   "file_extension": ".py",
   "mimetype": "text/x-python",
   "name": "python",
   "nbconvert_exporter": "python",
   "pygments_lexer": "ipython3",
   "version": "3.11.5"
  },
  "orig_nbformat": 4
 },
 "nbformat": 4,
 "nbformat_minor": 2
}
